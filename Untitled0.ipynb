{
 "metadata": {
  "name": "",
  "signature": "sha256:1b7c726c6f582dd2b6a886a184cb6e9bf20463ca75e196f1830a78a231a75561"
 },
 "nbformat": 3,
 "nbformat_minor": 0,
 "worksheets": [
  {
   "cells": [
    {
     "cell_type": "code",
     "collapsed": false,
     "input": [
      "import pandas as pd\n",
      "import numpy as np\n",
      "import matplotlib.pyplot as plt\n",
      "import asd\n",
      "import dio\n",
      "reload(asd)\n",
      "reload(dio)"
     ],
     "language": "python",
     "metadata": {},
     "outputs": [
      {
       "metadata": {},
       "output_type": "pyout",
       "prompt_number": 7,
       "text": [
        "<module 'dio' from 'dio.pyc'>"
       ]
      }
     ],
     "prompt_number": 7
    },
    {
     "cell_type": "code",
     "collapsed": false,
     "input": [
      "infile = '/Users/mobeets/Desktop/design.npy'\n",
      "nLags = 400\n",
      "trainPct = 0.1\n",
      "X0, Y0, X1, Y1, D = dio.load(infile, nLags+1, trainPct)\n",
      "X0 = X0[:,1:] # to compare to jakeASD\n",
      "D = dio.temporal_distance(nLags)\n",
      "print X0.shape"
     ],
     "language": "python",
     "metadata": {},
     "outputs": [
      {
       "output_type": "stream",
       "stream": "stdout",
       "text": [
        "(7094, 400)\n"
       ]
      }
     ],
     "prompt_number": 8
    },
    {
     "cell_type": "code",
     "collapsed": false,
     "input": [
      "ro, ssq, delta = np.array([2., 5.0, np.sqrt(6.5)])\n",
      "XX, XY, YY, p, q, Reg = asd.ASDInit(X0, Y0, D, (ro, ssq, delta))\n",
      "print Reg.sum()\n",
      "# print XX.sum()\n",
      "# u,s,v = np.linalg.svd(Reg.dot(XX))\n",
      "# print s[0]/s[-1]\n",
      "\n",
      "print np.linalg.cond(np.linalg.inv(Reg))\n",
      "print (np.linalg.inv(Reg).dot(Reg)).sum()\n",
      "mu, SigmaInv = asd.MeanInvCov(XX, XY, Reg, ssq)\n",
      "print np.linalg.inv(Reg).sum()\n",
      "print SigmaInv.sum()\n",
      "\n",
      "evi = asd.ASDLogEvi(XX, YY, XY, Reg, SigmaInv, ssq, p, q)\n",
      "print evi"
     ],
     "language": "python",
     "metadata": {},
     "outputs": [
      {
       "output_type": "stream",
       "stream": "stdout",
       "text": [
        "344.216803328\n",
        "4.18218255324e+13"
       ]
      },
      {
       "output_type": "stream",
       "stream": "stdout",
       "text": [
        "\n",
        "400.075988773\n",
        "472.99783483"
       ]
      },
      {
       "output_type": "stream",
       "stream": "stdout",
       "text": [
        "\n",
        "31208828420.2\n",
        "-692.864253146\n",
        "158670.563264\n",
        "-13606.082306\n"
       ]
      }
     ],
     "prompt_number": 99
    },
    {
     "cell_type": "code",
     "collapsed": false,
     "input": [
      "df = pd.read_csv('jakeans.csv')"
     ],
     "language": "python",
     "metadata": {},
     "outputs": [],
     "prompt_number": 9
    },
    {
     "cell_type": "code",
     "collapsed": false,
     "input": [
      "rows = []\n",
      "for ssq, ro, delta, logevi in df.values:\n",
      "    XX, XY, YY, p, q, Reg = asd.ASDInit(X0, Y0, D, (ro, ssq, delta))\n",
      "    _, SigmaInv = asd.MeanInvCov(XX, XY, Reg, ssq)\n",
      "    mylogevi = asd.ASDLogEvi(XX, YY, XY, Reg, SigmaInv, ssq, p, q)\n",
      "    rows.append([ro, ssq, delta, logevi, mylogevi])\n"
     ],
     "language": "python",
     "metadata": {},
     "outputs": [],
     "prompt_number": 10
    },
    {
     "cell_type": "code",
     "collapsed": false,
     "input": [
      "df1 = pd.DataFrame(rows, columns=['ro', 'ssq', 'delta', 'logevi_svd', 'logevi_full'])"
     ],
     "language": "python",
     "metadata": {},
     "outputs": [],
     "prompt_number": 8
    },
    {
     "cell_type": "code",
     "collapsed": false,
     "input": [
      "df1.to_csv('alldata.csv')"
     ],
     "language": "python",
     "metadata": {},
     "outputs": []
    },
    {
     "cell_type": "code",
     "collapsed": false,
     "input": [
      "rows = np.array(rows)\n",
      "for key in ['ro', 'ssq', 'delta']:\n",
      "    plt.plot(rows[:,0], rows[:,-1] - rows[:,-2], 'o')\n",
      "    plt.title(key)\n",
      "    plt.show()\n",
      "# for key in ['ro', 'ssq', 'delta']:\n",
      "#     plt.plot(df1[key].values, (df1['logevi_svd'] - df1['logevi_full']).values, 'o')\n",
      "#     plt.title(key)\n",
      "#     plt.show()"
     ],
     "language": "python",
     "metadata": {},
     "outputs": []
    },
    {
     "cell_type": "code",
     "collapsed": false,
     "input": [
      "print 1"
     ],
     "language": "python",
     "metadata": {},
     "outputs": [
      {
       "output_type": "stream",
       "stream": "stdout",
       "text": [
        "1\n"
       ]
      }
     ],
     "prompt_number": 6
    },
    {
     "cell_type": "code",
     "collapsed": false,
     "input": [],
     "language": "python",
     "metadata": {},
     "outputs": []
    }
   ],
   "metadata": {}
  }
 ]
}